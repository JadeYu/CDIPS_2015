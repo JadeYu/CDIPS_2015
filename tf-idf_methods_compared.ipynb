{
 "cells": [
  {
   "cell_type": "code",
   "execution_count": 1,
   "metadata": {
    "collapsed": true
   },
   "outputs": [],
   "source": [
    "import pandas as pd\n",
    "import numpy as np"
   ]
  },
  {
   "cell_type": "code",
   "execution_count": 2,
   "metadata": {
    "collapsed": true
   },
   "outputs": [],
   "source": [
    "def transform(data):\n",
    "    # transform the current dataframes (as in gn_gender_all.csv) into \n",
    "    # format suitable for \n",
    "    words = list(set(data['word']))\n",
    "    groups = list(set(data['group']))\n",
    "    counts = list()\n",
    "    for gr in groups:\n",
    "        count = list()\n",
    "        data_group = data.loc[data['group']==gr,]\n",
    "        for word in words:\n",
    "            data_word = data_group.loc[data_group['word']==word,]\n",
    "            if list(data_word.shape)[0]>0:\n",
    "                count.append(list(data_word['counts'])[0])\n",
    "            else:\n",
    "                count.append(0)\n",
    "        counts.append(count)\n",
    "    return words,counts"
   ]
  },
  {
   "cell_type": "code",
   "execution_count": 3,
   "metadata": {
    "collapsed": false
   },
   "outputs": [],
   "source": [
    "def sumColumn(m, column,exp=1):\n",
    "    # calculate column sum of a matrix; exp is the exponent \n",
    "    # so that the result is (sum(column_data^exp)) and set to 1 by default\n",
    "    total = 0\n",
    "    for row in range(len(m)):\n",
    "        total += m[row][column]**exp\n",
    "    return total\n",
    "\n",
    "def sumRow(m, row,exp=1):\n",
    "    # calculate row sum of a matrix; exp is the exponent \n",
    "    # so that the result is (sum(row_data^exp)) and set to 1 by default\n",
    "    total = 0\n",
    "    for col in range(len(m[0])):\n",
    "        total += m[row][col]**exp\n",
    "    return total\n"
   ]
  },
  {
   "cell_type": "code",
   "execution_count": 4,
   "metadata": {
    "collapsed": true
   },
   "outputs": [],
   "source": [
    "from sklearn.feature_extraction.text import TfidfTransformer\n",
    "\n",
    "\n",
    "def tfidf(counts,method='scikit-learn'):\n",
    "    if method=='scikit-learn':\n",
    "        # The scikit-learn method\n",
    "        transformer = TfidfTransformer()\n",
    "        result = list(transformer.fit_transform(counts).toarray())\n",
    "        for row in range(len(counts)):\n",
    "            result[row] = list(result[row])\n",
    "    else:\n",
    "        result = []\n",
    "        for row in range(len(counts)):\n",
    "            result.append([])\n",
    "        for col in range(len(counts[0])):\n",
    "            colSum = sumColumn(counts,col)\n",
    "            for row in range(len(counts)):\n",
    "                if method=='conditional':\n",
    "                    # conditional probability of the entry being in a certain group \n",
    "                    # given that a certain word is observed\n",
    "                    result[row].append(float(counts[row][col])/colSum)\n",
    "                elif method=='log-conditional':\n",
    "                    # similar to conditional, just instead of dividing the total \n",
    "                    # frequency of each word, divide the log of it so that the \n",
    "                    # result is less extreme \n",
    "                    result[row].append(float(counts[row][col])/np.log(colSum))\n",
    "                else:\n",
    "                    print \"method not found\"\n",
    "                    return result\n",
    "        # Then do l2 normalization\n",
    "        for row in range(len(result)):\n",
    "            norm = sumRow(result,row,2)\n",
    "            for col in range(len(result[0])):\n",
    "                result[row][col] = result[row][col]**2/norm\n",
    "                    \n",
    "    return result"
   ]
  },
  {
   "cell_type": "code",
   "execution_count": 5,
   "metadata": {
    "collapsed": true
   },
   "outputs": [],
   "source": [
    "def wordCloudString2(frequency,words,scale=1000):\n",
    "    # Take the frequency calculated from tf-idf to generate a string for \n",
    "    # word cloud making.\n",
    "    wordCloudStr = \"\" \n",
    "    for i in range(len(words)):\n",
    "        word = words[i]\n",
    "        # scale is a constant to be multiplied to the frequency to get the actual\n",
    "        # number of times a word is repeated in the string, so that this number\n",
    "        # is >1 for all words and proportional to their frequencies.\n",
    "        for j in range(int(frequency[i]*scale)):\n",
    "            wordCloudStr += word\n",
    "            wordCloudStr += \" \"\n",
    "    return wordCloudStr"
   ]
  },
  {
   "cell_type": "code",
   "execution_count": 55,
   "metadata": {
    "collapsed": false
   },
   "outputs": [
    {
     "data": {
      "text/plain": [
       "['M', 'U', 'T', 'F']"
      ]
     },
     "execution_count": 55,
     "metadata": {},
     "output_type": "execute_result"
    }
   ],
   "source": [
    "Data = pd.read_csv(\"../content_gender_all.csv\")\n",
    "list(set(Data['group']))"
   ]
  },
  {
   "cell_type": "code",
   "execution_count": 56,
   "metadata": {
    "collapsed": false
   },
   "outputs": [],
   "source": [
    "words,counts = transform(Data)\n",
    "x1 = tfidf(counts,method='scikit-learn')\n",
    "x2 = tfidf(counts,method='conditional')\n",
    "#x3 = tfidf(counts,method='log-conditional')"
   ]
  },
  {
   "cell_type": "code",
   "execution_count": 60,
   "metadata": {
    "collapsed": false
   },
   "outputs": [
    {
     "data": {
      "text/plain": [
       "'right right right love love love love help help people people feel feel feel feel back back back years years years need need see see something something something something something something something something something year year year year year year year year year year year go go go still still still still little little little little little little little little little said said said everything everything everything everything everything everything everything everything everything everything everything things things things away away away away away away away away away away long long going going going take take way way got got got ever ever ever ever ever ever ever ever ever friend friend friend friend friend friend friend friend friend friend told told told told told told told told told younger younger younger younger younger younger younger younger younger younger younger life life life someone someone someone someone someone someone someone someone someone around around never never never never let let let let let let let let let let know know know men men men men men men men men men men men new friends friends friends friends friends friends friends friends friends day day women women women women women women women women women women women older older older older older older older older older older older always always always always well say say say say say say say say say say tell tell tell tell tell tell tell tell tell tell tell person person person person person person person person person man man man man man man man man man man man time time every every think think think talk talk talk talk talk talk talk talk talk talk talk first first '"
      ]
     },
     "execution_count": 60,
     "metadata": {},
     "output_type": "execute_result"
    }
   ],
   "source": [
    "wordCloudString2(x2[3],words,300)"
   ]
  },
  {
   "cell_type": "raw",
   "metadata": {},
   "source": []
  }
 ],
 "metadata": {
  "kernelspec": {
   "display_name": "Python 2",
   "language": "python",
   "name": "python2"
  },
  "language_info": {
   "codemirror_mode": {
    "name": "ipython",
    "version": 2
   },
   "file_extension": ".py",
   "mimetype": "text/x-python",
   "name": "python",
   "nbconvert_exporter": "python",
   "pygments_lexer": "ipython2",
   "version": "2.7.10"
  }
 },
 "nbformat": 4,
 "nbformat_minor": 0
}
