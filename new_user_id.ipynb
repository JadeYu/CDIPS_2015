{
 "cells": [
  {
   "cell_type": "code",
   "execution_count": 1,
   "metadata": {
    "collapsed": true
   },
   "outputs": [],
   "source": [
    "import pandas as pd"
   ]
  },
  {
   "cell_type": "code",
   "execution_count": 94,
   "metadata": {
    "collapsed": false
   },
   "outputs": [],
   "source": [
    "EPData = pd.read_csv(\"../EP_smaller.csv\")"
   ]
  },
  {
   "cell_type": "code",
   "execution_count": 18,
   "metadata": {
    "collapsed": true
   },
   "outputs": [],
   "source": [
    "user_id = pd.read_csv(\"../members.csv\")"
   ]
  },
  {
   "cell_type": "code",
   "execution_count": 141,
   "metadata": {
    "collapsed": false
   },
   "outputs": [
    {
     "name": "stdout",
     "output_type": "stream",
     "text": [
      "0\n",
      "no match\n",
      "100\n",
      "no match\n",
      "no match\n",
      "200\n",
      "300\n",
      "no match\n",
      "400\n",
      "500\n",
      "no match\n",
      "no match\n",
      "600\n",
      "no match\n",
      "700\n",
      "no match\n",
      "no match\n",
      "no match\n",
      "no match\n",
      "800\n",
      "no match\n",
      "900\n"
     ]
    }
   ],
   "source": [
    "uid = []\n",
    "sure = []\n",
    "for i in range(1000):\n",
    "    user = user_id.loc[user_id['created']==EPData['created'][i],]\n",
    "    user = user.loc[user['gender']==EPData['gender'][i],]\n",
    "    user = user.loc[user['birthdate']==EPData['birthdate'][i],]\n",
    "    luser = user.loc[user['last_login']>=EPData['last_login'][i],] \n",
    "    #suppose members.csv is collected later than EPData\n",
    "    if list(luser.shape)[0]==1:\n",
    "        ui = int(luser['mid'])\n",
    "        sr = True\n",
    "    elif list(luser.shape)[0]>1: \n",
    "        # if there are more than 1 matches,choose the closest in time\n",
    "        # print \"replicate!!\"\n",
    "        loginsorts = zip(luser['last_login'], luser['mid'])\n",
    "        ui = list(sorted(loginsorts, key=lambda loginsorts: loginsorts[0])[0])[1]\n",
    "        sr = False    \n",
    "    else:\n",
    "        print \"no match\"\n",
    "        ui = 0\n",
    "        sr = True\n",
    "    uid.append(ui)\n",
    "    if i%100==0:\n",
    "        print i"
   ]
  },
  {
   "cell_type": "code",
   "execution_count": 115,
   "metadata": {
    "collapsed": false
   },
   "outputs": [
    {
     "data": {
      "text/plain": [
       "'2015-06-01 20:34:52'"
      ]
     },
     "execution_count": 115,
     "metadata": {},
     "output_type": "execute_result"
    }
   ],
   "source": [
    "EPData['last_login'][2]"
   ]
  },
  {
   "cell_type": "code",
   "execution_count": 119,
   "metadata": {
    "collapsed": false
   },
   "outputs": [
    {
     "data": {
      "text/plain": [
       "array(['2015-01-01 02:02:30', '2015-01-01 03:57:18', '2015-01-01 04:03:41',\n",
       "       ..., '2015-07-10 01:34:50', '2015-07-10 01:34:52',\n",
       "       '2015-07-10 01:34:59'], dtype=object)"
      ]
     },
     "execution_count": 119,
     "metadata": {},
     "output_type": "execute_result"
    }
   ],
   "source": [
    "np.sort(EPData['last_login'])\n"
   ]
  },
  {
   "cell_type": "code",
   "execution_count": 121,
   "metadata": {
    "collapsed": false
   },
   "outputs": [],
   "source": [
    "user = user_id.loc[user_id['created']==EPData['created'][1],]\n",
    "loginsorts = zip(user['last_login'], user['mid'])\n",
    "X=sorted(loginsorts, key=lambda loginsorts: loginsorts[0])"
   ]
  },
  {
   "cell_type": "code",
   "execution_count": 137,
   "metadata": {
    "collapsed": false
   },
   "outputs": [
    {
     "data": {
      "text/plain": [
       "[9343578, 8866629, 9318824, 9367848, 7581701]"
      ]
     },
     "execution_count": 137,
     "metadata": {},
     "output_type": "execute_result"
    }
   ],
   "source": [
    "uid"
   ]
  },
  {
   "cell_type": "code",
   "execution_count": 138,
   "metadata": {
    "collapsed": false
   },
   "outputs": [
    {
     "data": {
      "text/plain": [
       "(94506, 19)"
      ]
     },
     "execution_count": 138,
     "metadata": {},
     "output_type": "execute_result"
    }
   ],
   "source": [
    "EPData.shape"
   ]
  },
  {
   "cell_type": "code",
   "execution_count": null,
   "metadata": {
    "collapsed": true
   },
   "outputs": [],
   "source": []
  }
 ],
 "metadata": {
  "kernelspec": {
   "display_name": "Python 2",
   "language": "python",
   "name": "python2"
  },
  "language_info": {
   "codemirror_mode": {
    "name": "ipython",
    "version": 2
   },
   "file_extension": ".py",
   "mimetype": "text/x-python",
   "name": "python",
   "nbconvert_exporter": "python",
   "pygments_lexer": "ipython2",
   "version": "2.7.10"
  }
 },
 "nbformat": 4,
 "nbformat_minor": 0
}
